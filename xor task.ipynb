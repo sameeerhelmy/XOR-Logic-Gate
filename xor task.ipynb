{
 "cells": [
  {
   "cell_type": "code",
   "execution_count": 4,
   "id": "9e49cc75-7593-4780-ad57-052d029c9a52",
   "metadata": {},
   "outputs": [],
   "source": [
    "def sigmoid(x):\n",
    "    \"\"\"Sigmoid function\"\"\"\n",
    "    return 1.0 / (1.0 + np.exp(-x))"
   ]
  },
  {
   "cell_type": "code",
   "execution_count": 6,
   "id": "2091e44f-fd5f-40f3-a196-9ce4f2889068",
   "metadata": {},
   "outputs": [
    {
     "name": "stdout",
     "output_type": "stream",
     "text": [
      "Epoch 0, Loss: 0.8289, Accuracy: 0.5000\n",
      "Epoch 1000, Loss: 0.0736, Accuracy: 1.0000\n",
      "Epoch 2000, Loss: 0.0163, Accuracy: 1.0000\n",
      "Epoch 3000, Loss: 0.0089, Accuracy: 1.0000\n",
      "Epoch 4000, Loss: 0.0061, Accuracy: 1.0000\n",
      "Epoch 5000, Loss: 0.0046, Accuracy: 1.0000\n",
      "Epoch 6000, Loss: 0.0037, Accuracy: 1.0000\n",
      "Epoch 7000, Loss: 0.0031, Accuracy: 1.0000\n",
      "Epoch 8000, Loss: 0.0027, Accuracy: 1.0000\n",
      "Epoch 9000, Loss: 0.0023, Accuracy: 1.0000\n",
      "XOR([0. 0.]) = 0\n",
      "XOR([0. 1.]) = 1\n",
      "XOR([1. 0.]) = 1\n",
      "XOR([1. 1.]) = 0\n"
     ]
    }
   ],
   "source": [
    "import tensorflow as tf\n",
    "import numpy as np\n",
    "\n",
    "class LogicGate(tf.Module):\n",
    "    def __init__(self):\n",
    "        super().__init__()\n",
    "        self.built = False \n",
    "    def __call__(self, x, train=True):\n",
    "       \n",
    "        if not self.built:\n",
    "            input_dim = x.shape[-1] \n",
    "            \n",
    "            self.w1 = tf.Variable(tf.random.normal([input_dim, 2]), name=\"w1\")\n",
    "            self.b1 = tf.Variable(tf.zeros([2]), name=\"b1\")\n",
    "            \n",
    "            self.w2 = tf.Variable(tf.random.normal([2, 1]), name=\"w2\")\n",
    "            self.b2 = tf.Variable(tf.zeros([1]), name=\"b2\")\n",
    "\n",
    "            self.built = True\n",
    "\n",
    "        hidden_layer = tf.sigmoid(tf.add(tf.matmul(x, self.w1), self.b1))  \n",
    "        output = tf.sigmoid(tf.add(tf.matmul(hidden_layer, self.w2), self.b2))  \n",
    "        \n",
    "        return output\n",
    "\n",
    "def compute_loss(y_pred, y_true):\n",
    "    return tf.reduce_mean(tf.losses.binary_crossentropy(y_true, y_pred))\n",
    "\n",
    "def train_model(model, x_train, y_train, learning_rate=0.5, epochs=10000):\n",
    "    for epoch in range(epochs):\n",
    "        with tf.GradientTape() as tape:\n",
    "            y_pred = model(x_train)  \n",
    "            loss = compute_loss(y_pred, y_train)\n",
    "\n",
    "        grads = tape.gradient(loss, model.variables)\n",
    "        for g, v in zip(grads, model.variables):\n",
    "            v.assign_sub(learning_rate * g)\n",
    "\n",
    "      \n",
    "        if epoch % 1000 == 0:\n",
    "            acc = compute_accuracy(model, x_train, y_train)\n",
    "            print(f\"Epoch {epoch}, Loss: {loss.numpy():.4f}, Accuracy: {acc:.4f}\")\n",
    "\n",
    "\n",
    "def compute_accuracy(model, x, y_true):\n",
    "    y_pred = model(x, train=False)\n",
    "    y_pred_rounded = tf.round(y_pred)\n",
    "    correct = tf.equal(y_pred_rounded, y_true)\n",
    "    return tf.reduce_mean(tf.cast(correct, tf.float32)).numpy()\n",
    "\n",
    "\n",
    "x_train = np.array([[0,0], [0,1], [1,0], [1,1]], dtype=np.float32)\n",
    "y_train = np.array([[0], [1], [1], [0]], dtype=np.float32)\n",
    "\n",
    "xor_model = LogicGate()\n",
    "train_model(xor_model, x_train, y_train)\n",
    "\n",
    "\n",
    "for i in range(4):\n",
    "    pred = xor_model(x_train[i:i+1]).numpy()[0][0]\n",
    "    print(f\"XOR({x_train[i]}) = {round(pred)}\")"
   ]
  },
  {
   "cell_type": "code",
   "execution_count": null,
   "id": "4ffeff18-c9c9-4222-af05-0162c24fb43e",
   "metadata": {},
   "outputs": [],
   "source": []
  }
 ],
 "metadata": {
  "kernelspec": {
   "display_name": "Python 3 (ipykernel)",
   "language": "python",
   "name": "python3"
  },
  "language_info": {
   "codemirror_mode": {
    "name": "ipython",
    "version": 3
   },
   "file_extension": ".py",
   "mimetype": "text/x-python",
   "name": "python",
   "nbconvert_exporter": "python",
   "pygments_lexer": "ipython3",
   "version": "3.12.7"
  }
 },
 "nbformat": 4,
 "nbformat_minor": 5
}
